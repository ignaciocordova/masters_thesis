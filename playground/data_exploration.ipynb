{
 "cells": [
  {
   "cell_type": "code",
   "execution_count": 1,
   "metadata": {},
   "outputs": [],
   "source": [
    "import pandas as pd"
   ]
  },
  {
   "cell_type": "markdown",
   "metadata": {},
   "source": [
    "## Data\n",
    "\n",
    "Predictions!! All made in the same way "
   ]
  },
  {
   "cell_type": "markdown",
   "metadata": {},
   "source": [
    "Sotavento may provide observed meteorological data. "
   ]
  },
  {
   "cell_type": "code",
   "execution_count": 6,
   "metadata": {},
   "outputs": [
    {
     "name": "stdout",
     "output_type": "stream",
     "text": [
      "Nº of rows:  9\n"
     ]
    },
    {
     "data": {
      "text/html": [
       "<div>\n",
       "<style scoped>\n",
       "    .dataframe tbody tr th:only-of-type {\n",
       "        vertical-align: middle;\n",
       "    }\n",
       "\n",
       "    .dataframe tbody tr th {\n",
       "        vertical-align: top;\n",
       "    }\n",
       "\n",
       "    .dataframe thead th {\n",
       "        text-align: right;\n",
       "    }\n",
       "</style>\n",
       "<table border=\"1\" class=\"dataframe\">\n",
       "  <thead>\n",
       "    <tr style=\"text-align: right;\">\n",
       "      <th></th>\n",
       "      <th>prediction date</th>\n",
       "      <th>10u_(44.0, -9.5)</th>\n",
       "      <th>10u_(44.0, -9.375)</th>\n",
       "      <th>10u_(44.0, -9.25)</th>\n",
       "      <th>10u_(44.0, -9.125)</th>\n",
       "      <th>10u_(44.0, -9.0)</th>\n",
       "      <th>10u_(44.0, -8.875)</th>\n",
       "      <th>10u_(44.0, -8.75)</th>\n",
       "      <th>10u_(44.0, -8.625)</th>\n",
       "      <th>10u_(44.0, -8.5)</th>\n",
       "      <th>...</th>\n",
       "      <th>vel100_(42.875, -6.0)</th>\n",
       "      <th>vel100_(43.0, -6.0)</th>\n",
       "      <th>vel100_(43.125, -6.0)</th>\n",
       "      <th>vel100_(43.25, -6.0)</th>\n",
       "      <th>vel100_(43.375, -6.0)</th>\n",
       "      <th>vel100_(43.5, -6.0)</th>\n",
       "      <th>vel100_(43.625, -6.0)</th>\n",
       "      <th>vel100_(43.75, -6.0)</th>\n",
       "      <th>vel100_(43.875, -6.0)</th>\n",
       "      <th>vel100_(44.0, -6.0)</th>\n",
       "    </tr>\n",
       "  </thead>\n",
       "  <tbody>\n",
       "    <tr>\n",
       "      <th>0</th>\n",
       "      <td>2016-01-01 00:00:00</td>\n",
       "      <td>1.577097</td>\n",
       "      <td>1.675974</td>\n",
       "      <td>1.836863</td>\n",
       "      <td>1.821115</td>\n",
       "      <td>1.681467</td>\n",
       "      <td>1.424021</td>\n",
       "      <td>1.190012</td>\n",
       "      <td>1.106394</td>\n",
       "      <td>1.108713</td>\n",
       "      <td>...</td>\n",
       "      <td>4.542353</td>\n",
       "      <td>5.321404</td>\n",
       "      <td>5.971150</td>\n",
       "      <td>5.862873</td>\n",
       "      <td>5.164530</td>\n",
       "      <td>5.391425</td>\n",
       "      <td>6.107658</td>\n",
       "      <td>6.398007</td>\n",
       "      <td>6.472929</td>\n",
       "      <td>6.793221</td>\n",
       "    </tr>\n",
       "    <tr>\n",
       "      <th>1</th>\n",
       "      <td>2016-01-01 01:00:00</td>\n",
       "      <td>1.320722</td>\n",
       "      <td>1.059857</td>\n",
       "      <td>1.200238</td>\n",
       "      <td>1.276654</td>\n",
       "      <td>1.713910</td>\n",
       "      <td>1.246137</td>\n",
       "      <td>0.725141</td>\n",
       "      <td>0.203412</td>\n",
       "      <td>0.215253</td>\n",
       "      <td>...</td>\n",
       "      <td>4.708214</td>\n",
       "      <td>5.435709</td>\n",
       "      <td>6.092992</td>\n",
       "      <td>5.361253</td>\n",
       "      <td>3.485183</td>\n",
       "      <td>3.988883</td>\n",
       "      <td>4.845162</td>\n",
       "      <td>5.260955</td>\n",
       "      <td>5.464975</td>\n",
       "      <td>5.908251</td>\n",
       "    </tr>\n",
       "    <tr>\n",
       "      <th>2</th>\n",
       "      <td>2016-01-01 02:00:00</td>\n",
       "      <td>1.562336</td>\n",
       "      <td>1.023518</td>\n",
       "      <td>0.415607</td>\n",
       "      <td>0.335896</td>\n",
       "      <td>0.563801</td>\n",
       "      <td>0.696369</td>\n",
       "      <td>0.487873</td>\n",
       "      <td>0.106770</td>\n",
       "      <td>-0.157024</td>\n",
       "      <td>...</td>\n",
       "      <td>4.553245</td>\n",
       "      <td>5.325067</td>\n",
       "      <td>6.018884</td>\n",
       "      <td>4.991258</td>\n",
       "      <td>2.281320</td>\n",
       "      <td>2.807106</td>\n",
       "      <td>3.654994</td>\n",
       "      <td>4.170403</td>\n",
       "      <td>4.632105</td>\n",
       "      <td>5.078648</td>\n",
       "    </tr>\n",
       "    <tr>\n",
       "      <th>3</th>\n",
       "      <td>2016-01-01 03:00:00</td>\n",
       "      <td>0.198002</td>\n",
       "      <td>0.025639</td>\n",
       "      <td>0.332890</td>\n",
       "      <td>-0.118526</td>\n",
       "      <td>-0.533199</td>\n",
       "      <td>-1.093990</td>\n",
       "      <td>-1.123653</td>\n",
       "      <td>-1.040646</td>\n",
       "      <td>-0.928341</td>\n",
       "      <td>...</td>\n",
       "      <td>4.668390</td>\n",
       "      <td>5.177444</td>\n",
       "      <td>5.716941</td>\n",
       "      <td>4.493564</td>\n",
       "      <td>1.185751</td>\n",
       "      <td>1.837592</td>\n",
       "      <td>3.329041</td>\n",
       "      <td>4.260316</td>\n",
       "      <td>4.934864</td>\n",
       "      <td>5.643699</td>\n",
       "    </tr>\n",
       "    <tr>\n",
       "      <th>4</th>\n",
       "      <td>2016-01-01 04:00:00</td>\n",
       "      <td>1.604583</td>\n",
       "      <td>1.043792</td>\n",
       "      <td>1.073821</td>\n",
       "      <td>0.065032</td>\n",
       "      <td>-0.961823</td>\n",
       "      <td>-1.394685</td>\n",
       "      <td>-1.394074</td>\n",
       "      <td>-1.230012</td>\n",
       "      <td>-1.500520</td>\n",
       "      <td>...</td>\n",
       "      <td>4.791137</td>\n",
       "      <td>5.317643</td>\n",
       "      <td>5.648662</td>\n",
       "      <td>4.902998</td>\n",
       "      <td>3.442938</td>\n",
       "      <td>3.724846</td>\n",
       "      <td>4.111763</td>\n",
       "      <td>4.328406</td>\n",
       "      <td>4.885375</td>\n",
       "      <td>5.730442</td>\n",
       "    </tr>\n",
       "  </tbody>\n",
       "</table>\n",
       "<p>5 rows × 3481 columns</p>\n",
       "</div>"
      ],
      "text/plain": [
       "       prediction date  10u_(44.0, -9.5)  10u_(44.0, -9.375)  \\\n",
       "0  2016-01-01 00:00:00          1.577097            1.675974   \n",
       "1  2016-01-01 01:00:00          1.320722            1.059857   \n",
       "2  2016-01-01 02:00:00          1.562336            1.023518   \n",
       "3  2016-01-01 03:00:00          0.198002            0.025639   \n",
       "4  2016-01-01 04:00:00          1.604583            1.043792   \n",
       "\n",
       "   10u_(44.0, -9.25)  10u_(44.0, -9.125)  10u_(44.0, -9.0)  \\\n",
       "0           1.836863            1.821115          1.681467   \n",
       "1           1.200238            1.276654          1.713910   \n",
       "2           0.415607            0.335896          0.563801   \n",
       "3           0.332890           -0.118526         -0.533199   \n",
       "4           1.073821            0.065032         -0.961823   \n",
       "\n",
       "   10u_(44.0, -8.875)  10u_(44.0, -8.75)  10u_(44.0, -8.625)  \\\n",
       "0            1.424021           1.190012            1.106394   \n",
       "1            1.246137           0.725141            0.203412   \n",
       "2            0.696369           0.487873            0.106770   \n",
       "3           -1.093990          -1.123653           -1.040646   \n",
       "4           -1.394685          -1.394074           -1.230012   \n",
       "\n",
       "   10u_(44.0, -8.5)  ...  vel100_(42.875, -6.0)  vel100_(43.0, -6.0)  \\\n",
       "0          1.108713  ...               4.542353             5.321404   \n",
       "1          0.215253  ...               4.708214             5.435709   \n",
       "2         -0.157024  ...               4.553245             5.325067   \n",
       "3         -0.928341  ...               4.668390             5.177444   \n",
       "4         -1.500520  ...               4.791137             5.317643   \n",
       "\n",
       "   vel100_(43.125, -6.0)  vel100_(43.25, -6.0)  vel100_(43.375, -6.0)  \\\n",
       "0               5.971150              5.862873               5.164530   \n",
       "1               6.092992              5.361253               3.485183   \n",
       "2               6.018884              4.991258               2.281320   \n",
       "3               5.716941              4.493564               1.185751   \n",
       "4               5.648662              4.902998               3.442938   \n",
       "\n",
       "   vel100_(43.5, -6.0)  vel100_(43.625, -6.0)  vel100_(43.75, -6.0)  \\\n",
       "0             5.391425               6.107658              6.398007   \n",
       "1             3.988883               4.845162              5.260955   \n",
       "2             2.807106               3.654994              4.170403   \n",
       "3             1.837592               3.329041              4.260316   \n",
       "4             3.724846               4.111763              4.328406   \n",
       "\n",
       "   vel100_(43.875, -6.0)  vel100_(44.0, -6.0)  \n",
       "0               6.472929             6.793221  \n",
       "1               5.464975             5.908251  \n",
       "2               4.632105             5.078648  \n",
       "3               4.934864             5.643699  \n",
       "4               4.885375             5.730442  \n",
       "\n",
       "[5 rows x 3481 columns]"
      ]
     },
     "execution_count": 6,
     "metadata": {},
     "output_type": "execute_result"
    }
   ],
   "source": [
    "df = pd.read_csv('EjemploDatos.csv')\n",
    "print('Nº of rows: ', df.shape[0])\n",
    "df.head()"
   ]
  },
  {
   "cell_type": "code",
   "execution_count": 7,
   "metadata": {},
   "outputs": [
    {
     "data": {
      "text/plain": [
       "435"
      ]
     },
     "execution_count": 7,
     "metadata": {},
     "output_type": "execute_result"
    }
   ],
   "source": [
    "# number of columns that contain the string 10u\n",
    "df.columns[df.columns.str.contains('10u')].shape[0]"
   ]
  },
  {
   "cell_type": "code",
   "execution_count": 8,
   "metadata": {},
   "outputs": [
    {
     "data": {
      "text/plain": [
       "435"
      ]
     },
     "execution_count": 8,
     "metadata": {},
     "output_type": "execute_result"
    }
   ],
   "source": [
    "#number of columns that contain the string vel100\n",
    "df.columns[df.columns.str.contains('vel100')].shape[0]"
   ]
  },
  {
   "cell_type": "code",
   "execution_count": 21,
   "metadata": {},
   "outputs": [
    {
     "data": {
      "text/plain": [
       "Index(['pred', '10u_', '10v_', '2t_(', 'sp_(', '100u', '100v', 'vel1'], dtype='object')"
      ]
     },
     "execution_count": 21,
     "metadata": {},
     "output_type": "execute_result"
    }
   ],
   "source": [
    "#unique values of the first 4 characters of the column names\n",
    "df.columns.str[:4].unique()"
   ]
  },
  {
   "cell_type": "code",
   "execution_count": 1,
   "metadata": {},
   "outputs": [
    {
     "name": "stdout",
     "output_type": "stream",
     "text": [
      "3481\n"
     ]
    }
   ],
   "source": [
    "#falta diferenciar vel10 y vel 100 \n",
    "print(8*435+1)"
   ]
  },
  {
   "cell_type": "markdown",
   "metadata": {},
   "source": [
    "The EjemploDatos.csv contains 3481 columns that can be divided into: \n",
    " - Prediction Date : day and hour \n",
    " \n",
    " - 10u             : u component at height 10m\n",
    "  \n",
    " - 10v             : v component at height 10m\n",
    " \n",
    " - 2t              : temperature at height 2m\n",
    " \n",
    " - sp              : pressure at surface\n",
    " \n",
    " - 100u            : u component at height 100m\n",
    " \n",
    " - 100v            : v component at height 100m\n",
    " \n",
    " - vel10           : module of the wind at height 10m\n",
    " \n",
    " - vel100          : module of the wind at height 100m\n",
    " "
   ]
  },
  {
   "cell_type": "markdown",
   "metadata": {},
   "source": [
    "## Target\n",
    "\n",
    "Observed production at Prediction Date (MWh)\n",
    "\n",
    "Potencia máxima del parque: 17560Kwh (los datos, ya confirmado, están en Kwh"
   ]
  },
  {
   "cell_type": "code",
   "execution_count": 2,
   "metadata": {},
   "outputs": [
    {
     "data": {
      "text/html": [
       "<div>\n",
       "<style scoped>\n",
       "    .dataframe tbody tr th:only-of-type {\n",
       "        vertical-align: middle;\n",
       "    }\n",
       "\n",
       "    .dataframe tbody tr th {\n",
       "        vertical-align: top;\n",
       "    }\n",
       "\n",
       "    .dataframe thead th {\n",
       "        text-align: right;\n",
       "    }\n",
       "</style>\n",
       "<table border=\"1\" class=\"dataframe\">\n",
       "  <thead>\n",
       "    <tr style=\"text-align: right;\">\n",
       "      <th></th>\n",
       "      <th>Prediction Date</th>\n",
       "      <th>Target (KWh)</th>\n",
       "    </tr>\n",
       "  </thead>\n",
       "  <tbody>\n",
       "    <tr>\n",
       "      <th>0</th>\n",
       "      <td>2016-01-01 00:00:00</td>\n",
       "      <td>4126.70</td>\n",
       "    </tr>\n",
       "    <tr>\n",
       "      <th>1</th>\n",
       "      <td>2016-01-01 01:00:00</td>\n",
       "      <td>5688.51</td>\n",
       "    </tr>\n",
       "    <tr>\n",
       "      <th>2</th>\n",
       "      <td>2016-01-01 02:00:00</td>\n",
       "      <td>7742.01</td>\n",
       "    </tr>\n",
       "    <tr>\n",
       "      <th>3</th>\n",
       "      <td>2016-01-01 03:00:00</td>\n",
       "      <td>7660.50</td>\n",
       "    </tr>\n",
       "    <tr>\n",
       "      <th>4</th>\n",
       "      <td>2016-01-01 04:00:00</td>\n",
       "      <td>9730.48</td>\n",
       "    </tr>\n",
       "  </tbody>\n",
       "</table>\n",
       "</div>"
      ],
      "text/plain": [
       "       Prediction Date  Target (KWh)\n",
       "0  2016-01-01 00:00:00       4126.70\n",
       "1  2016-01-01 01:00:00       5688.51\n",
       "2  2016-01-01 02:00:00       7742.01\n",
       "3  2016-01-01 03:00:00       7660.50\n",
       "4  2016-01-01 04:00:00       9730.48"
      ]
     },
     "execution_count": 2,
     "metadata": {},
     "output_type": "execute_result"
    }
   ],
   "source": [
    "target_df = pd.read_csv('EjemploTarget.csv',\n",
    "                        header=None, \n",
    "                        names=['Prediction Date','Target (KWh)'])\n",
    "target_df.head()"
   ]
  },
  {
   "cell_type": "code",
   "execution_count": null,
   "metadata": {},
   "outputs": [],
   "source": []
  }
 ],
 "metadata": {
  "kernelspec": {
   "display_name": "Python 3.9.7 ('base')",
   "language": "python",
   "name": "python3"
  },
  "language_info": {
   "codemirror_mode": {
    "name": "ipython",
    "version": 3
   },
   "file_extension": ".py",
   "mimetype": "text/x-python",
   "name": "python",
   "nbconvert_exporter": "python",
   "pygments_lexer": "ipython3",
   "version": "3.9.7"
  },
  "orig_nbformat": 4,
  "vscode": {
   "interpreter": {
    "hash": "8375bd4984629add8d44ff60e70bea75a8303b3cea9050f50a9c41ff6ab03447"
   }
  }
 },
 "nbformat": 4,
 "nbformat_minor": 2
}
