{
 "cells": [
  {
   "cell_type": "code",
   "execution_count": 1,
   "metadata": {},
   "outputs": [],
   "source": [
    "import torch \n",
    "import torch.nn as nn \n",
    "\n",
    "import torchvision # for datasets\n",
    "import torchvision.transforms as transforms\n",
    "\n",
    "import matplotlib.pyplot as plt"
   ]
  },
  {
   "cell_type": "code",
   "execution_count": 2,
   "metadata": {},
   "outputs": [],
   "source": [
    "# device config \n",
    "device = torch.device('cuda' if torch.cuda.is_available() else 'cpu')\n",
    "\n",
    "# hyper-parameters\n",
    "input_size = 28*28 # 28x28 images \n",
    "hidden_size = 200 \n",
    "num_classes = 10 \n",
    "num_epochs = 4\n",
    "batch_size = 100 \n",
    "learning_rate = 0.001 "
   ]
  },
  {
   "attachments": {},
   "cell_type": "markdown",
   "metadata": {},
   "source": [
    "### Training and test set "
   ]
  },
  {
   "cell_type": "code",
   "execution_count": 3,
   "metadata": {},
   "outputs": [],
   "source": [
    "train_dataset = torchvision.datasets.MNIST(root='./data', # creates folder\n",
    "                                           train=True,\n",
    "                                           transform=transforms.ToTensor(),\n",
    "                                           download=True,\n",
    "                                           )\n",
    "\n",
    "test_dataset = torchvision.datasets.MNIST(root='./data', \n",
    "                                          train=False,\n",
    "                                          transform=transforms.ToTensor(),\n",
    "                                          )                               "
   ]
  },
  {
   "cell_type": "code",
   "execution_count": 34,
   "metadata": {},
   "outputs": [],
   "source": [
    "train_loader = torch.utils.data.DataLoader(dataset=train_dataset,\n",
    "                                           batch_size=batch_size,\n",
    "                                           shuffle=True,\n",
    "                                           )\n",
    "\n",
    "test_loader = torch.utils.data.DataLoader(dataset=test_dataset, \n",
    "                                          batch_size=batch_size,\n",
    "                                          shuffle=False,\n",
    "                                          )                                            "
   ]
  },
  {
   "cell_type": "code",
   "execution_count": 35,
   "metadata": {},
   "outputs": [
    {
     "name": "stdout",
     "output_type": "stream",
     "text": [
      "Training samples shape is: torch.Size([100, 1, 28, 28])\n",
      "Training labels shape is: torch.Size([100])\n",
      "\n",
      "The first dimension coincides with batch_size=100\n",
      "\n",
      "The second dimension coincides with the number of channels of the images (1)\n"
     ]
    }
   ],
   "source": [
    "examples = iter(train_loader)\n",
    "samples, labels = next(examples)\n",
    "\n",
    "# print shape of samples and labels tensors\n",
    "print(f'Training samples shape is: {samples.shape}')\n",
    "print(f'Training labels shape is: {labels.shape}')\n",
    "print('')\n",
    "print(f'The first dimension coincides with batch_size={batch_size}')\n",
    "print('')\n",
    "print('The second dimension coincides with the number of channels of the images (1)')"
   ]
  },
  {
   "cell_type": "code",
   "execution_count": 36,
   "metadata": {},
   "outputs": [
    {
     "data": {
      "image/png": "[encoded data removed]",
      "text/plain": [
       "<Figure size 640x480 with 6 Axes>"
      ]
     },
     "metadata": {},
     "output_type": "display_data"
    }
   ],
   "source": [
    "for i in range(6):\n",
    "    plt.subplot(2,3,i+1)\n",
    "    plt.imshow(samples[i][0], cmap='gray')\n",
    "    plt.title(f'Label={labels[i]}')\n",
    "plt.show()"
   ]
  },
  {
   "cell_type": "code",
   "execution_count": 37,
   "metadata": {},
   "outputs": [],
   "source": [
    "class MiRedNeuronal(nn.Module):\n",
    "    def __init__(self, input_size, hidden_size, output_size):\n",
    "        super(MiRedNeuronal, self).__init__()\n",
    "        self.capa_linear = nn.Linear(input_size, hidden_size)\n",
    "        self.activar = nn.ReLU()\n",
    "        self.otra_capa_linear = nn.Linear(hidden_size, output_size)\n",
    "\n",
    "    def forward(self, x):\n",
    "        out = self.capa_linear(x)\n",
    "        out = self.activar(out)\n",
    "        out = self.otra_capa_linear(out)\n",
    "\n",
    "        return out \n",
    "    "
   ]
  },
  {
   "cell_type": "code",
   "execution_count": 38,
   "metadata": {},
   "outputs": [
    {
     "name": "stdout",
     "output_type": "stream",
     "text": [
      "epoch 1/4; step 100/600, loss=0.4366\n",
      "epoch 1/4; step 200/600, loss=0.3219\n",
      "epoch 1/4; step 300/600, loss=0.3310\n",
      "epoch 1/4; step 400/600, loss=0.2274\n",
      "epoch 1/4; step 500/600, loss=0.3064\n",
      "epoch 1/4; step 600/600, loss=0.1780\n",
      "epoch 2/4; step 100/600, loss=0.1807\n",
      "epoch 2/4; step 200/600, loss=0.2149\n",
      "epoch 2/4; step 300/600, loss=0.1365\n",
      "epoch 2/4; step 400/600, loss=0.2286\n",
      "epoch 2/4; step 500/600, loss=0.1882\n",
      "epoch 2/4; step 600/600, loss=0.0971\n",
      "epoch 3/4; step 100/600, loss=0.2097\n",
      "epoch 3/4; step 200/600, loss=0.1773\n",
      "epoch 3/4; step 300/600, loss=0.1102\n",
      "epoch 3/4; step 400/600, loss=0.1053\n",
      "epoch 3/4; step 500/600, loss=0.0570\n",
      "epoch 3/4; step 600/600, loss=0.1851\n",
      "epoch 4/4; step 100/600, loss=0.1863\n",
      "epoch 4/4; step 200/600, loss=0.0736\n",
      "epoch 4/4; step 300/600, loss=0.1707\n",
      "epoch 4/4; step 400/600, loss=0.1519\n",
      "epoch 4/4; step 500/600, loss=0.1964\n",
      "epoch 4/4; step 600/600, loss=0.0706\n"
     ]
    }
   ],
   "source": [
    "model = MiRedNeuronal(input_size=input_size,\n",
    "                      hidden_size=hidden_size,\n",
    "                      output_size=num_classes)\n",
    "\n",
    "criterion = nn.CrossEntropyLoss()\n",
    "optimizer = torch.optim.Adam(model.parameters(),\n",
    "                             lr = learning_rate)          \n",
    "\n",
    "# training loop \n",
    "n_total_steps = len(train_loader)       \n",
    "\n",
    "for epoch in range(num_epochs):\n",
    "    for idx, (images, labels) in enumerate(train_loader): \n",
    "\n",
    "        # images are [100, 1, 28, 28] but input_size=784\n",
    "        images = images.reshape(-1, 28*28)\n",
    "\n",
    "        images = images.to(device)\n",
    "        labels = labels.to(device)\n",
    "\n",
    "        # forward \n",
    "        ouputs = model(images)\n",
    "        loss = criterion(ouputs, labels)\n",
    "\n",
    "        # backward\n",
    "        # empty grads\n",
    "        optimizer.zero_grad()\n",
    "        #compute gradients\n",
    "        loss.backward()\n",
    "        # update parameters\n",
    "        optimizer.step()\n",
    "\n",
    "        # verbosity \n",
    "        if (idx+1)%100 == 0:\n",
    "            print(f'epoch {epoch+1}/{num_epochs}; step {idx+1}/{n_total_steps}, loss={loss.item():.4f}') \n",
    "\n"
   ]
  },
  {
   "cell_type": "code",
   "execution_count": 59,
   "metadata": {},
   "outputs": [
    {
     "name": "stdout",
     "output_type": "stream",
     "text": [
      "Accuracy on test set = 0.9400\n"
     ]
    }
   ],
   "source": [
    "with torch.no_grad():\n",
    "    n_correct = 0 \n",
    "    n_samples = 0 \n",
    "\n",
    "    for images, labels in test_loader:\n",
    "        images = images.reshape(-1,28*28).to(device)\n",
    "        labels = labels.to(device)\n",
    "        outputs = model(images)\n",
    "\n",
    "        max_values, predictions = torch.max(outputs, 1)\n",
    "\n",
    "        n_samples += labels.shape[0]\n",
    "\n",
    "        n_correct = (predictions==labels).sum().item()\n",
    "\n",
    "    acc = 100 * n_correct/n_samples\n",
    "\n",
    "    print(f'Accuracy on test set = {acc:.4f}')\n",
    "\n",
    "        "
   ]
  },
  {
   "cell_type": "code",
   "execution_count": 58,
   "metadata": {},
   "outputs": [
    {
     "data": {
      "text/plain": [
       "torch.return_types.max(\n",
       "values=tensor([ 4.4921,  5.2091,  5.8699,  4.4622,  1.5156,  3.7506,  3.2002,  5.0683,\n",
       "         8.8760,  9.2362,  4.3931,  9.6996,  5.4002,  6.6739,  6.0144,  5.3882,\n",
       "         5.6365,  8.6714,  6.4997,  9.1350,  6.3930,  6.0175,  3.7917,  6.3720,\n",
       "         6.6616,  2.0085,  2.9016,  4.3474,  5.4800,  7.1910,  8.7019,  5.4534,\n",
       "         6.8815,  9.5758,  6.2866,  8.1271,  5.8448,  9.6181,  8.5712,  9.3885,\n",
       "         4.0791,  2.3092,  9.3831,  2.6687,  4.4863,  6.8357,  4.9947,  6.2496,\n",
       "         8.0376,  7.4381,  5.6300,  6.7971, 12.5470,  4.5506,  5.1394,  3.3942,\n",
       "         5.9775,  6.9784,  7.1223,  2.1980,  8.4699,  7.8622,  6.7299,  7.0047,\n",
       "         7.1186,  7.4816,  7.3021,  5.5796,  9.1540,  6.0188,  6.5076,  5.8815,\n",
       "         8.8048,  7.8172,  6.8169,  2.9855,  5.6162,  5.7291,  6.5628,  8.3106,\n",
       "         6.5210,  6.7881,  3.4931, 13.7673,  5.2261,  7.2894,  4.6968,  9.9713,\n",
       "         9.6141, 12.6671, 10.9194,  9.0156,  6.8532,  9.7960,  5.8392, 12.0188,\n",
       "         9.9943,  9.1325,  9.4235, 12.0735]),\n",
       "indices=tensor([8, 9, 0, 1, 0, 7, 4, 5, 6, 7, 8, 0, 1, 2, 3, 4, 7, 8, 9, 7, 8, 6, 4, 1,\n",
       "        9, 8, 8, 4, 4, 7, 0, 1, 9, 2, 8, 7, 8, 2, 6, 0, 6, 5, 3, 3, 8, 9, 1, 4,\n",
       "        0, 6, 1, 0, 0, 6, 2, 1, 1, 7, 7, 8, 4, 6, 0, 7, 0, 3, 6, 8, 7, 1, 5, 2,\n",
       "        4, 9, 4, 3, 6, 4, 1, 7, 3, 6, 6, 0, 1, 2, 3, 4, 5, 6, 7, 8, 9, 0, 1, 2,\n",
       "        3, 4, 5, 6]))"
      ]
     },
     "execution_count": 58,
     "metadata": {},
     "output_type": "execute_result"
    }
   ],
   "source": [
    "torch.max(outputs,1)"
   ]
  },
  {
   "attachments": {},
   "cell_type": "markdown",
   "metadata": {},
   "source": [
    "## Let's try to improve the accuracy"
   ]
  },
  {
   "cell_type": "code",
   "execution_count": 65,
   "metadata": {},
   "outputs": [],
   "source": [
    "class NeuralNetMejorada(nn.Module):\n",
    "    def __init__(self, input_size, hidden_size, output_size):\n",
    "        super(NeuralNetMejorada, self).__init__()\n",
    "        self.l1 = nn.Linear(input_size, hidden_size)\n",
    "        self.activar = nn.ReLU()\n",
    "        self.l2 = nn.Linear(hidden_size, int(hidden_size/2.0))\n",
    "        self.l3 = nn.Linear(int(hidden_size/2.0), output_size)\n",
    "\n",
    "    def forward(self, x):\n",
    "        out = self.l1(x)\n",
    "        out = self.activar(out)\n",
    "        out = self.l2(out)\n",
    "        out = self.activar(out)\n",
    "        out = self.l3(out)\n",
    "\n",
    "        return out "
   ]
  },
  {
   "cell_type": "code",
   "execution_count": 66,
   "metadata": {},
   "outputs": [
    {
     "name": "stdout",
     "output_type": "stream",
     "text": [
      "epoch 1/4; step 100/600, loss=0.2954\n",
      "epoch 1/4; step 200/600, loss=0.2840\n",
      "epoch 1/4; step 300/600, loss=0.1952\n",
      "epoch 1/4; step 400/600, loss=0.2691\n",
      "epoch 1/4; step 500/600, loss=0.1376\n",
      "epoch 1/4; step 600/600, loss=0.2084\n",
      "epoch 2/4; step 100/600, loss=0.1086\n",
      "epoch 2/4; step 200/600, loss=0.2118\n",
      "epoch 2/4; step 300/600, loss=0.1456\n",
      "epoch 2/4; step 400/600, loss=0.1656\n",
      "epoch 2/4; step 500/600, loss=0.1755\n",
      "epoch 2/4; step 600/600, loss=0.0932\n",
      "epoch 3/4; step 100/600, loss=0.0287\n",
      "epoch 3/4; step 200/600, loss=0.1238\n",
      "epoch 3/4; step 300/600, loss=0.0810\n",
      "epoch 3/4; step 400/600, loss=0.1499\n",
      "epoch 3/4; step 500/600, loss=0.0203\n",
      "epoch 3/4; step 600/600, loss=0.1229\n",
      "epoch 4/4; step 100/600, loss=0.0412\n",
      "epoch 4/4; step 200/600, loss=0.0213\n",
      "epoch 4/4; step 300/600, loss=0.0377\n",
      "epoch 4/4; step 400/600, loss=0.0526\n",
      "epoch 4/4; step 500/600, loss=0.0864\n",
      "epoch 4/4; step 600/600, loss=0.1281\n"
     ]
    }
   ],
   "source": [
    "model = NeuralNetMejorada(input_size=input_size,\n",
    "                      hidden_size=hidden_size,\n",
    "                      output_size=num_classes)\n",
    "\n",
    "criterion = nn.CrossEntropyLoss()\n",
    "optimizer = torch.optim.Adam(model.parameters(),\n",
    "                             lr = learning_rate)          \n",
    "\n",
    "# training loop \n",
    "n_total_steps = len(train_loader)       \n",
    "\n",
    "for epoch in range(num_epochs):\n",
    "    for idx, (images, labels) in enumerate(train_loader): \n",
    "\n",
    "        # images are [100, 1, 28, 28] but input_size=784\n",
    "        images = images.reshape(-1, 28*28)\n",
    "\n",
    "        images = images.to(device)\n",
    "        labels = labels.to(device)\n",
    "\n",
    "        # forward \n",
    "        ouputs = model(images)\n",
    "        loss = criterion(ouputs, labels)\n",
    "\n",
    "        # backward\n",
    "        # empty grads\n",
    "        optimizer.zero_grad()\n",
    "        #compute gradients\n",
    "        loss.backward()\n",
    "        # update parameters\n",
    "        optimizer.step()\n",
    "\n",
    "        # verbosity \n",
    "        if (idx+1)%100 == 0:\n",
    "            print(f'epoch {epoch+1}/{num_epochs}; step {idx+1}/{n_total_steps}, loss={loss.item():.4f}') \n",
    "\n"
   ]
  },
  {
   "cell_type": "code",
   "execution_count": 67,
   "metadata": {},
   "outputs": [
    {
     "name": "stdout",
     "output_type": "stream",
     "text": [
      "Accuracy on test set = 0.9700\n"
     ]
    }
   ],
   "source": [
    "with torch.no_grad():\n",
    "    n_correct = 0 \n",
    "    n_samples = 0 \n",
    "\n",
    "    for images, labels in test_loader:\n",
    "        images = images.reshape(-1,28*28).to(device)\n",
    "        labels = labels.to(device)\n",
    "        outputs = model(images)\n",
    "\n",
    "        max_values, predictions = torch.max(outputs, 1)\n",
    "\n",
    "        n_samples += labels.shape[0]\n",
    "\n",
    "        n_correct = (predictions==labels).sum().item()\n",
    "\n",
    "    acc = 100 * n_correct/n_samples\n",
    "\n",
    "    print(f'Accuracy on test set = {acc:.4f}')"
   ]
  },
  {
   "cell_type": "code",
   "execution_count": null,
   "metadata": {},
   "outputs": [],
   "source": []
  }
 ],
 "metadata": {
  "kernelspec": {
   "display_name": "base",
   "language": "python",
   "name": "python3"
  },
  "language_info": {
   "codemirror_mode": {
    "name": "ipython",
    "version": 3
   },
   "file_extension": ".py",
   "mimetype": "text/x-python",
   "name": "python",
   "nbconvert_exporter": "python",
   "pygments_lexer": "ipython3",
   "version": "3.9.7"
  },
  "orig_nbformat": 4,
  "vscode": {
   "interpreter": {
    "hash": "8375bd4984629add8d44ff60e70bea75a8303b3cea9050f50a9c41ff6ab03447"
   }
  }
 },
 "nbformat": 4,
 "nbformat_minor": 2
}
