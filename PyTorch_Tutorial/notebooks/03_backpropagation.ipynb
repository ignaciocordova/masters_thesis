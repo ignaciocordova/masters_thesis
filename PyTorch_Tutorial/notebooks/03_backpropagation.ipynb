{
 "cells": [
  {
   "attachments": {},
   "cell_type": "markdown",
   "metadata": {},
   "source": [
    "# Backpropagation\n",
    "\n",
    "In the regression problem, we want to minimize the LOSS function given by the difference between $\\hat{y}$ and $y$. \n",
    "\n",
    "$\\hat{y}$ is calculated by the product of the input $x$ and the weight $w$. "
   ]
  },
  {
   "attachments": {},
   "cell_type": "markdown",
   "metadata": {},
   "source": [
    "![Regression](./figures/regression.png)"
   ]
  },
  {
   "attachments": {},
   "cell_type": "markdown",
   "metadata": {},
   "source": [
    "To minimize the LOSS function we would like to know the derivative of the LOSS function with respect to the weight $w$.\n",
    "\n",
    "$$\\frac{\\partial L}{\\partial w} $$\n",
    "\n",
    "### STEP 1: FORWARD PASS\n",
    "\n",
    "The forward pass is the process of calculating the output $\\hat{y}$ from the input $x$ and the weight $w$ (which can be randomly initialized). \n",
    "\n",
    "### STEP 2: LOCAL GRADIENTS \n",
    "\n",
    "We can compute the gradients locally, for example: \n",
    "\n",
    "$$ \\frac{\\partial L}{\\partial s} = 2s$$\n",
    "\n",
    "![local gradient](./figures/local_gradients.png)\n",
    "\n",
    "### STEP 3: BACKWARD PASS\n",
    "\n",
    "The backward pass is the process of calculating the gradients of the LOSS function with respect to the weight $w$ using the chain rule. \n",
    "\n",
    "$$ \\frac{\\partial L}{\\partial w} = \\frac{\\partial L}{\\partial s} \\frac{\\partial s}{\\partial \\hat{y}} \\frac{\\partial \\hat{y}}{\\partial w} $$\n"
   ]
  },
  {
   "cell_type": "code",
   "execution_count": 2,
   "metadata": {},
   "outputs": [],
   "source": [
    "import torch "
   ]
  },
  {
   "attachments": {},
   "cell_type": "markdown",
   "metadata": {},
   "source": [
    "### Forwards pass to compute LOSS"
   ]
  },
  {
   "cell_type": "code",
   "execution_count": 5,
   "metadata": {},
   "outputs": [
    {
     "name": "stdout",
     "output_type": "stream",
     "text": [
      "tensor(1., grad_fn=<PowBackward0>)\n"
     ]
    }
   ],
   "source": [
    "# input data\n",
    "x = torch.tensor(1.0)\n",
    "\n",
    "# target\n",
    "y = torch.tensor(2.0)\n",
    "\n",
    "# weights\n",
    "w = torch.tensor(1.0, requires_grad=True)\n",
    "\n",
    "# forward pass and compute loss\n",
    "y_hat = w * x \n",
    "loss = (y_hat - y)**2\n",
    "\n",
    "print(loss)"
   ]
  },
  {
   "attachments": {},
   "cell_type": "markdown",
   "metadata": {},
   "source": [
    "### Backward pass to compute local gradients"
   ]
  },
  {
   "cell_type": "code",
   "execution_count": 6,
   "metadata": {},
   "outputs": [
    {
     "name": "stdout",
     "output_type": "stream",
     "text": [
      "tensor(-2.)\n"
     ]
    }
   ],
   "source": [
    "# backward pass\n",
    "loss.backward()\n",
    "\n",
    "# print gradient of loss with respect to w\n",
    "print(w.grad)"
   ]
  },
  {
   "attachments": {},
   "cell_type": "markdown",
   "metadata": {},
   "source": [
    "We can easily check (by hand) that the $\\frac{\\partial L}{\\partial w}$ is equal to $-2x$. In this case $x=1$ so the gradient is equal to $-2$.\n",
    "\n",
    "![gradient](./figures/gradient.png)"
   ]
  },
  {
   "cell_type": "markdown",
   "metadata": {},
   "source": []
  },
  {
   "cell_type": "code",
   "execution_count": 30,
   "metadata": {},
   "outputs": [],
   "source": [
    "x = torch.tensor([2.0,3.0,1.0])\n",
    "\n",
    "# requires_grad=True usually associated to the \n",
    "# parameters that will be learned by the model\n",
    "w = torch.tensor([1.0,1.0,2.0], requires_grad=True)\n",
    "\n",
    "y = torch.tensor(3.0)\n",
    "\n",
    "# forward pass to compute loss\n",
    "y_hat = w@x\n",
    "\n",
    "loss = (y_hat - y)**2"
   ]
  },
  {
   "cell_type": "code",
   "execution_count": 31,
   "metadata": {},
   "outputs": [
    {
     "name": "stdout",
     "output_type": "stream",
     "text": [
      "tensor(7., grad_fn=<DotBackward0>)\n",
      "tensor(16., grad_fn=<PowBackward0>)\n"
     ]
    }
   ],
   "source": [
    "print(y_hat)\n",
    "\n",
    "print(loss)"
   ]
  },
  {
   "cell_type": "code",
   "execution_count": 32,
   "metadata": {},
   "outputs": [
    {
     "name": "stdout",
     "output_type": "stream",
     "text": [
      "tensor([16., 24.,  8.])\n"
     ]
    }
   ],
   "source": [
    "# backward pass to compute gradients\n",
    "loss.backward()\n",
    "\n",
    "# print gradients\n",
    "print(w.grad)\n"
   ]
  },
  {
   "cell_type": "code",
   "execution_count": 42,
   "metadata": {},
   "outputs": [],
   "source": [
    "# learning rate\n",
    "lr = 0.01\n",
    "\n",
    "# update weights\n",
    "w.data = w.data - lr * w.grad.data"
   ]
  },
  {
   "cell_type": "code",
   "execution_count": 43,
   "metadata": {},
   "outputs": [
    {
     "data": {
      "text/plain": [
       "tensor([0.8400, 0.7600, 1.9200])"
      ]
     },
     "execution_count": 43,
     "metadata": {},
     "output_type": "execute_result"
    }
   ],
   "source": [
    "w.data"
   ]
  },
  {
   "cell_type": "code",
   "execution_count": 44,
   "metadata": {},
   "outputs": [
    {
     "name": "stdout",
     "output_type": "stream",
     "text": [
      "tensor(5.8800, grad_fn=<DotBackward0>)\n",
      "tensor(8.2944, grad_fn=<PowBackward0>)\n"
     ]
    }
   ],
   "source": [
    "# next forward pass\n",
    "y_hat = w@x\n",
    "\n",
    "loss = (y_hat - y)**2\n",
    "\n",
    "print(y_hat)\n",
    "\n",
    "print(loss)"
   ]
  },
  {
   "cell_type": "code",
   "execution_count": 45,
   "metadata": {},
   "outputs": [
    {
     "name": "stdout",
     "output_type": "stream",
     "text": [
      "tensor([27.5200, 41.2800, 13.7600])\n"
     ]
    }
   ],
   "source": [
    "# backward pass to compute gradients\n",
    "loss.backward()\n",
    "\n",
    "# print gradients\n",
    "print(w.grad)"
   ]
  },
  {
   "cell_type": "code",
   "execution_count": 46,
   "metadata": {},
   "outputs": [
    {
     "data": {
      "text/plain": [
       "tensor([0.5648, 0.3472, 1.7824])"
      ]
     },
     "execution_count": 46,
     "metadata": {},
     "output_type": "execute_result"
    }
   ],
   "source": [
    "# update weights\n",
    "w.data = w.data - lr * w.grad.data\n",
    "w.data"
   ]
  },
  {
   "cell_type": "code",
   "execution_count": 47,
   "metadata": {},
   "outputs": [
    {
     "name": "stdout",
     "output_type": "stream",
     "text": [
      "tensor(3.9536, grad_fn=<DotBackward0>)\n",
      "tensor(0.9094, grad_fn=<PowBackward0>)\n"
     ]
    }
   ],
   "source": [
    "# next forward pass\n",
    "y_hat = w@x\n",
    "\n",
    "loss = (y_hat - y)**2\n",
    "\n",
    "print(y_hat)\n",
    "\n",
    "print(loss)"
   ]
  },
  {
   "cell_type": "code",
   "execution_count": 48,
   "metadata": {},
   "outputs": [
    {
     "name": "stdout",
     "output_type": "stream",
     "text": [
      "tensor([31.3344, 47.0016, 15.6672])\n"
     ]
    }
   ],
   "source": [
    "# backward pass to compute gradients\n",
    "loss.backward()\n",
    "\n",
    "# print gradients\n",
    "print(w.grad)"
   ]
  },
  {
   "cell_type": "code",
   "execution_count": 49,
   "metadata": {},
   "outputs": [
    {
     "data": {
      "text/plain": [
       "tensor([ 0.2515, -0.1228,  1.6257])"
      ]
     },
     "execution_count": 49,
     "metadata": {},
     "output_type": "execute_result"
    }
   ],
   "source": [
    "# update weights\n",
    "w.data = w.data - lr * w.grad.data\n",
    "w.data"
   ]
  },
  {
   "cell_type": "code",
   "execution_count": 50,
   "metadata": {},
   "outputs": [
    {
     "name": "stdout",
     "output_type": "stream",
     "text": [
      "tensor(1.7602, grad_fn=<DotBackward0>)\n",
      "tensor(1.5371, grad_fn=<PowBackward0>)\n"
     ]
    }
   ],
   "source": [
    "# next forward pass\n",
    "y_hat = w@x\n",
    "\n",
    "loss = (y_hat - y)**2\n",
    "\n",
    "print(y_hat)\n",
    "\n",
    "print(loss)"
   ]
  },
  {
   "attachments": {},
   "cell_type": "markdown",
   "metadata": {},
   "source": [
    "Cool!"
   ]
  },
  {
   "cell_type": "code",
   "execution_count": null,
   "metadata": {},
   "outputs": [],
   "source": []
  }
 ],
 "metadata": {
  "kernelspec": {
   "display_name": "base",
   "language": "python",
   "name": "python3"
  },
  "language_info": {
   "codemirror_mode": {
    "name": "ipython",
    "version": 3
   },
   "file_extension": ".py",
   "mimetype": "text/x-python",
   "name": "python",
   "nbconvert_exporter": "python",
   "pygments_lexer": "ipython3",
   "version": "3.9.7"
  },
  "orig_nbformat": 4,
  "vscode": {
   "interpreter": {
    "hash": "8375bd4984629add8d44ff60e70bea75a8303b3cea9050f50a9c41ff6ab03447"
   }
  }
 },
 "nbformat": 4,
 "nbformat_minor": 2
}
