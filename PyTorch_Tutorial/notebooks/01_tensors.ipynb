{
 "cells": [
  {
   "cell_type": "code",
   "execution_count": 4,
   "metadata": {},
   "outputs": [],
   "source": [
    "# import necessary torch libraries for tensors\n",
    "import torch\n",
    "import torch.nn as nn"
   ]
  },
  {
   "attachments": {},
   "cell_type": "markdown",
   "metadata": {},
   "source": [
    "Create a random tensor"
   ]
  },
  {
   "cell_type": "code",
   "execution_count": 5,
   "metadata": {},
   "outputs": [
    {
     "name": "stdout",
     "output_type": "stream",
     "text": [
      "tensor([0.7573, 0.3313, 0.9712, 0.0355, 0.6363])\n"
     ]
    }
   ],
   "source": [
    "# create a random 1-dimensional tensor \n",
    "x = torch.rand(5)\n",
    "print(x)"
   ]
  },
  {
   "attachments": {},
   "cell_type": "markdown",
   "metadata": {},
   "source": [
    "Create an empty tensor"
   ]
  },
  {
   "cell_type": "code",
   "execution_count": 12,
   "metadata": {},
   "outputs": [
    {
     "name": "stdout",
     "output_type": "stream",
     "text": [
      "tensor([5.4646e-05])\n",
      "\n",
      "tensor([[1., 1., 1.],\n",
      "        [1., 1., 1.]])\n",
      "\n",
      "tensor([[[0., 0., 0.],\n",
      "         [0., 0., 0.],\n",
      "         [0., 0., 0.]],\n",
      "\n",
      "        [[0., 0., 0.],\n",
      "         [0., 0., 0.],\n",
      "         [0., 0., 0.]]])\n"
     ]
    }
   ],
   "source": [
    "x = torch.empty(1)\n",
    "print(x)\n",
    "print('')\n",
    "\n",
    "\n",
    "x = torch.ones(2,3)\n",
    "print(x)\n",
    "print('')\n",
    "\n",
    "x = torch.zeros(2,3,3)\n",
    "print(x)"
   ]
  },
  {
   "attachments": {},
   "cell_type": "markdown",
   "metadata": {},
   "source": [
    "Change dtype of a tensor"
   ]
  },
  {
   "cell_type": "code",
   "execution_count": 13,
   "metadata": {},
   "outputs": [
    {
     "name": "stdout",
     "output_type": "stream",
     "text": [
      "torch.float32\n"
     ]
    }
   ],
   "source": [
    "print(x.dtype)"
   ]
  },
  {
   "cell_type": "code",
   "execution_count": 14,
   "metadata": {},
   "outputs": [
    {
     "name": "stdout",
     "output_type": "stream",
     "text": [
      "torch.int64\n"
     ]
    }
   ],
   "source": [
    "x = torch.tensor([1,2,3], dtype=int)\n",
    "print(x.dtype)"
   ]
  },
  {
   "attachments": {},
   "cell_type": "markdown",
   "metadata": {},
   "source": [
    "### Basic operations"
   ]
  },
  {
   "cell_type": "code",
   "execution_count": 15,
   "metadata": {},
   "outputs": [
    {
     "name": "stdout",
     "output_type": "stream",
     "text": [
      "tensor([[0.3452, 0.2851],\n",
      "        [0.6058, 0.0415]])\n",
      "tensor([[0.4390, 0.6712],\n",
      "        [0.1573, 0.4442]])\n"
     ]
    }
   ],
   "source": [
    "x = torch.rand(2,2)\n",
    "y = torch.rand(2,2)\n",
    "\n",
    "print(x)\n",
    "print(y)"
   ]
  },
  {
   "attachments": {},
   "cell_type": "markdown",
   "metadata": {},
   "source": [
    "Element-wise addition"
   ]
  },
  {
   "cell_type": "code",
   "execution_count": 16,
   "metadata": {},
   "outputs": [
    {
     "name": "stdout",
     "output_type": "stream",
     "text": [
      "tensor([[0.7843, 0.9563],\n",
      "        [0.7631, 0.4858]])\n"
     ]
    }
   ],
   "source": [
    "z = x + y\n",
    "print(z)"
   ]
  },
  {
   "cell_type": "code",
   "execution_count": 17,
   "metadata": {},
   "outputs": [
    {
     "name": "stdout",
     "output_type": "stream",
     "text": [
      "tensor([[0.7843, 0.9563],\n",
      "        [0.7631, 0.4858]])\n"
     ]
    }
   ],
   "source": [
    "z = torch.add(x,y)\n",
    "print(z)"
   ]
  },
  {
   "attachments": {},
   "cell_type": "markdown",
   "metadata": {},
   "source": [
    "In-place addition"
   ]
  },
  {
   "cell_type": "code",
   "execution_count": 18,
   "metadata": {},
   "outputs": [
    {
     "name": "stdout",
     "output_type": "stream",
     "text": [
      "tensor([[0.7843, 0.9563],\n",
      "        [0.7631, 0.4858]])\n"
     ]
    }
   ],
   "source": [
    "# add all elements of x to y \n",
    "y.add_(x)\n",
    "print(y)"
   ]
  },
  {
   "attachments": {},
   "cell_type": "markdown",
   "metadata": {},
   "source": [
    "*Funcitons with underscore at the end are in-place operations* "
   ]
  },
  {
   "attachments": {},
   "cell_type": "markdown",
   "metadata": {},
   "source": [
    "Subtraction"
   ]
  },
  {
   "cell_type": "code",
   "execution_count": 19,
   "metadata": {},
   "outputs": [
    {
     "name": "stdout",
     "output_type": "stream",
     "text": [
      "tensor([[-0.4390, -0.6712],\n",
      "        [-0.1573, -0.4442]])\n",
      "tensor([[-0.4390, -0.6712],\n",
      "        [-0.1573, -0.4442]])\n"
     ]
    }
   ],
   "source": [
    "z = x - y \n",
    "print(z)\n",
    "\n",
    "z = torch.sub(x,y)\n",
    "print(z)\n"
   ]
  },
  {
   "attachments": {},
   "cell_type": "markdown",
   "metadata": {},
   "source": [
    "Multiplication"
   ]
  },
  {
   "cell_type": "code",
   "execution_count": 20,
   "metadata": {},
   "outputs": [
    {
     "name": "stdout",
     "output_type": "stream",
     "text": [
      "tensor([[0.2708, 0.2727],\n",
      "        [0.4623, 0.0202]])\n",
      "tensor([[0.2708, 0.2727],\n",
      "        [0.4623, 0.0202]])\n"
     ]
    }
   ],
   "source": [
    "z = x * y\n",
    "print(z)\n",
    "\n",
    "z = torch.mul(x,y)\n",
    "print(z)"
   ]
  },
  {
   "attachments": {},
   "cell_type": "markdown",
   "metadata": {},
   "source": [
    "In-place multiplication"
   ]
  },
  {
   "cell_type": "code",
   "execution_count": 21,
   "metadata": {},
   "outputs": [
    {
     "name": "stdout",
     "output_type": "stream",
     "text": [
      "tensor([[0.2708, 0.2727],\n",
      "        [0.4623, 0.0202]])\n"
     ]
    }
   ],
   "source": [
    "y.mul_(x)\n",
    "print(y)"
   ]
  },
  {
   "attachments": {},
   "cell_type": "markdown",
   "metadata": {},
   "source": [
    "Division"
   ]
  },
  {
   "cell_type": "code",
   "execution_count": 22,
   "metadata": {},
   "outputs": [
    {
     "name": "stdout",
     "output_type": "stream",
     "text": [
      "tensor([[1.2751, 1.0457],\n",
      "        [1.3105, 2.0586]])\n",
      "tensor([[1.2751, 1.0457],\n",
      "        [1.3105, 2.0586]])\n",
      "tensor([[0.7843, 0.9563],\n",
      "        [0.7631, 0.4858]])\n"
     ]
    }
   ],
   "source": [
    "z = x / y\n",
    "print(z)\n",
    "\n",
    "z = torch.div(x,y)\n",
    "print(z)\n",
    "\n",
    "y.div_(x)\n",
    "print(y)"
   ]
  },
  {
   "attachments": {},
   "cell_type": "markdown",
   "metadata": {},
   "source": [
    "### Slicing"
   ]
  },
  {
   "cell_type": "code",
   "execution_count": 23,
   "metadata": {},
   "outputs": [
    {
     "name": "stdout",
     "output_type": "stream",
     "text": [
      "tensor([[0.8949, 0.8538, 0.2626],\n",
      "        [0.6967, 0.5297, 0.8642],\n",
      "        [0.4015, 0.7891, 0.7276],\n",
      "        [0.5551, 0.5602, 0.8276],\n",
      "        [0.7842, 0.5106, 0.4896]])\n"
     ]
    }
   ],
   "source": [
    "x = torch.rand(5,3)\n",
    "print(x)"
   ]
  },
  {
   "cell_type": "code",
   "execution_count": 25,
   "metadata": {},
   "outputs": [
    {
     "name": "stdout",
     "output_type": "stream",
     "text": [
      "tensor([0.8949, 0.6967, 0.4015, 0.5551, 0.7842])\n"
     ]
    }
   ],
   "source": [
    "# select the first column of x\n",
    "sliced = x[:,0]\n",
    "print(sliced)"
   ]
  },
  {
   "cell_type": "code",
   "execution_count": 26,
   "metadata": {},
   "outputs": [
    {
     "name": "stdout",
     "output_type": "stream",
     "text": [
      "tensor([0.8949, 0.8538, 0.2626])\n"
     ]
    }
   ],
   "source": [
    "# select the first row of x\n",
    "sliced = x[0,:]\n",
    "print(sliced)"
   ]
  },
  {
   "attachments": {},
   "cell_type": "markdown",
   "metadata": {},
   "source": [
    "Select one element"
   ]
  },
  {
   "cell_type": "code",
   "execution_count": 27,
   "metadata": {},
   "outputs": [
    {
     "name": "stdout",
     "output_type": "stream",
     "text": [
      "tensor(0.8642)\n"
     ]
    }
   ],
   "source": [
    "print(x[1,2])"
   ]
  },
  {
   "attachments": {},
   "cell_type": "markdown",
   "metadata": {},
   "source": [
    ".item() is used to get the value of a tensor with only one element"
   ]
  },
  {
   "cell_type": "code",
   "execution_count": 28,
   "metadata": {},
   "outputs": [
    {
     "data": {
      "text/plain": [
       "0.827627956867218"
      ]
     },
     "execution_count": 28,
     "metadata": {},
     "output_type": "execute_result"
    }
   ],
   "source": [
    "x[3,2].item()"
   ]
  },
  {
   "attachments": {},
   "cell_type": "markdown",
   "metadata": {},
   "source": [
    "### Reshaping x.view(dim1, dim2, ...)"
   ]
  },
  {
   "cell_type": "code",
   "execution_count": 38,
   "metadata": {},
   "outputs": [
    {
     "name": "stdout",
     "output_type": "stream",
     "text": [
      "tensor([[0.5339, 0.2532, 0.3904, 0.4056],\n",
      "        [0.2179, 0.5938, 0.6831, 0.7916],\n",
      "        [0.7633, 0.4285, 0.1432, 0.2519],\n",
      "        [0.0933, 0.5149, 0.4028, 0.4781]])\n"
     ]
    }
   ],
   "source": [
    "x = torch.rand(4,4)\n",
    "print(x)"
   ]
  },
  {
   "cell_type": "code",
   "execution_count": 39,
   "metadata": {},
   "outputs": [
    {
     "name": "stdout",
     "output_type": "stream",
     "text": [
      "tensor([0.5339, 0.2532, 0.3904, 0.4056, 0.2179, 0.5938, 0.6831, 0.7916, 0.7633,\n",
      "        0.4285, 0.1432, 0.2519, 0.0933, 0.5149, 0.4028, 0.4781])\n"
     ]
    }
   ],
   "source": [
    "y = x.view(16)\n",
    "print(y)"
   ]
  },
  {
   "cell_type": "code",
   "execution_count": 41,
   "metadata": {},
   "outputs": [
    {
     "name": "stdout",
     "output_type": "stream",
     "text": [
      "tensor([[0.5339, 0.2532, 0.3904, 0.4056, 0.2179, 0.5938, 0.6831, 0.7916],\n",
      "        [0.7633, 0.4285, 0.1432, 0.2519, 0.0933, 0.5149, 0.4028, 0.4781]])\n",
      "\n",
      "torch.Size([2, 8])\n"
     ]
    }
   ],
   "source": [
    "y = x.view(-1,8)\n",
    "print(y)\n",
    "\n",
    "print()\n",
    "print(y.size())"
   ]
  },
  {
   "attachments": {},
   "cell_type": "markdown",
   "metadata": {},
   "source": [
    "Using -1 to infer the correct size"
   ]
  },
  {
   "cell_type": "code",
   "execution_count": 44,
   "metadata": {},
   "outputs": [
    {
     "name": "stdout",
     "output_type": "stream",
     "text": [
      "tensor([[0.5339, 0.2532],\n",
      "        [0.3904, 0.4056],\n",
      "        [0.2179, 0.5938],\n",
      "        [0.6831, 0.7916],\n",
      "        [0.7633, 0.4285],\n",
      "        [0.1432, 0.2519],\n",
      "        [0.0933, 0.5149],\n",
      "        [0.4028, 0.4781]])\n",
      "\n",
      "torch.Size([8, 2])\n"
     ]
    }
   ],
   "source": [
    "y = x.view(-1,2)\n",
    "print(y)\n",
    "\n",
    "print()\n",
    "print(y.size())"
   ]
  },
  {
   "cell_type": "code",
   "execution_count": 45,
   "metadata": {},
   "outputs": [
    {
     "name": "stdout",
     "output_type": "stream",
     "text": [
      "tensor([[0.5339, 0.2532, 0.3904, 0.4056],\n",
      "        [0.2179, 0.5938, 0.6831, 0.7916],\n",
      "        [0.7633, 0.4285, 0.1432, 0.2519],\n",
      "        [0.0933, 0.5149, 0.4028, 0.4781]])\n",
      "\n",
      "torch.Size([4, 4])\n"
     ]
    }
   ],
   "source": [
    "y = x.view(-1,4)\n",
    "print(y)\n",
    "\n",
    "print()\n",
    "print(y.size())"
   ]
  },
  {
   "cell_type": "code",
   "execution_count": 46,
   "metadata": {},
   "outputs": [
    {
     "name": "stdout",
     "output_type": "stream",
     "text": [
      "tensor([[[0.5339, 0.2532],\n",
      "         [0.3904, 0.4056]],\n",
      "\n",
      "        [[0.2179, 0.5938],\n",
      "         [0.6831, 0.7916]],\n",
      "\n",
      "        [[0.7633, 0.4285],\n",
      "         [0.1432, 0.2519]],\n",
      "\n",
      "        [[0.0933, 0.5149],\n",
      "         [0.4028, 0.4781]]])\n",
      "\n",
      "torch.Size([4, 2, 2])\n"
     ]
    }
   ],
   "source": [
    "y = x.view(-1,2,2)\n",
    "print(y)\n",
    "\n",
    "print()\n",
    "print(y.size())"
   ]
  },
  {
   "attachments": {},
   "cell_type": "markdown",
   "metadata": {},
   "source": [
    "### From tensor to numpy array"
   ]
  },
  {
   "cell_type": "code",
   "execution_count": 47,
   "metadata": {},
   "outputs": [],
   "source": [
    "import numpy as np "
   ]
  },
  {
   "cell_type": "code",
   "execution_count": 64,
   "metadata": {},
   "outputs": [
    {
     "name": "stdout",
     "output_type": "stream",
     "text": [
      "tensor([1., 1., 1., 1., 1.]) <class 'torch.Tensor'>\n"
     ]
    }
   ],
   "source": [
    "a = torch.ones(5)\n",
    "print(a, type(a))"
   ]
  },
  {
   "cell_type": "code",
   "execution_count": 65,
   "metadata": {},
   "outputs": [
    {
     "name": "stdout",
     "output_type": "stream",
     "text": [
      "[1. 1. 1. 1. 1.] <class 'numpy.ndarray'>\n"
     ]
    }
   ],
   "source": [
    "b = a.numpy()\n",
    "print(b, type(b))"
   ]
  },
  {
   "attachments": {},
   "cell_type": "markdown",
   "metadata": {},
   "source": [
    "Be careful! If the tensor is on the CPU (not the GPU) both objects will share the same memory location. So if you change one, the other will change as well."
   ]
  },
  {
   "cell_type": "code",
   "execution_count": 66,
   "metadata": {},
   "outputs": [
    {
     "name": "stdout",
     "output_type": "stream",
     "text": [
      "tensor([2., 2., 2., 2., 2.])\n"
     ]
    }
   ],
   "source": [
    "a.add_(1)\n",
    "print(a)"
   ]
  },
  {
   "cell_type": "code",
   "execution_count": 67,
   "metadata": {},
   "outputs": [
    {
     "name": "stdout",
     "output_type": "stream",
     "text": [
      "[2. 2. 2. 2. 2.]\n"
     ]
    }
   ],
   "source": [
    "print(b)"
   ]
  },
  {
   "attachments": {},
   "cell_type": "markdown",
   "metadata": {},
   "source": [
    "### From numpy to tensor"
   ]
  },
  {
   "cell_type": "code",
   "execution_count": 69,
   "metadata": {},
   "outputs": [
    {
     "name": "stdout",
     "output_type": "stream",
     "text": [
      "[1. 1. 1. 1. 1. 1. 1.] <class 'numpy.ndarray'>\n"
     ]
    }
   ],
   "source": [
    "a = np.ones(7)\n",
    "print(a, type(a))"
   ]
  },
  {
   "cell_type": "code",
   "execution_count": 70,
   "metadata": {},
   "outputs": [
    {
     "name": "stdout",
     "output_type": "stream",
     "text": [
      "tensor([1., 1., 1., 1., 1., 1., 1.], dtype=torch.float64) <class 'torch.Tensor'>\n"
     ]
    }
   ],
   "source": [
    "b = torch.from_numpy(a)\n",
    "print(b, type(b))"
   ]
  },
  {
   "cell_type": "code",
   "execution_count": 71,
   "metadata": {},
   "outputs": [
    {
     "name": "stdout",
     "output_type": "stream",
     "text": [
      "[2. 2. 2. 2. 2. 2. 2.]\n"
     ]
    }
   ],
   "source": [
    "a += 1\n",
    "print(a)"
   ]
  },
  {
   "cell_type": "code",
   "execution_count": 72,
   "metadata": {},
   "outputs": [
    {
     "name": "stdout",
     "output_type": "stream",
     "text": [
      "tensor([2., 2., 2., 2., 2., 2., 2.], dtype=torch.float64)\n"
     ]
    }
   ],
   "source": [
    "print(b)"
   ]
  },
  {
   "attachments": {},
   "cell_type": "markdown",
   "metadata": {},
   "source": [
    "The tensor has changed also!"
   ]
  },
  {
   "attachments": {},
   "cell_type": "markdown",
   "metadata": {},
   "source": [
    "### CUDA"
   ]
  },
  {
   "attachments": {},
   "cell_type": "markdown",
   "metadata": {},
   "source": [
    "Create tensor on the GPU "
   ]
  },
  {
   "cell_type": "code",
   "execution_count": 73,
   "metadata": {},
   "outputs": [],
   "source": [
    "if torch.cuda.is_available():\n",
    "    \n",
    "    device = torch.device(\"cuda\")\n",
    "\n",
    "    # write tensor to GPU\n",
    "    x = torch.ones(5, device=device)\n",
    "\n",
    "    # write tensor to CPU\n",
    "    y = torch.ones(5)\n",
    "\n",
    "    # move tensor to GPU\n",
    "    y = y.to(device)\n",
    "\n",
    "    # perform operation on GPU\n",
    "    z = x + y  \n",
    "\n",
    "    # cannot move directly to CPU\n",
    "    #z.numpy()\n",
    "\n",
    "    z = z.to(\"cpu\")\n",
    "    z.numpy()\n",
    "\n"
   ]
  },
  {
   "cell_type": "code",
   "execution_count": null,
   "metadata": {},
   "outputs": [],
   "source": []
  }
 ],
 "metadata": {
  "kernelspec": {
   "display_name": "base",
   "language": "python",
   "name": "python3"
  },
  "language_info": {
   "codemirror_mode": {
    "name": "ipython",
    "version": 3
   },
   "file_extension": ".py",
   "mimetype": "text/x-python",
   "name": "python",
   "nbconvert_exporter": "python",
   "pygments_lexer": "ipython3",
   "version": "3.9.7"
  },
  "orig_nbformat": 4,
  "vscode": {
   "interpreter": {
    "hash": "8375bd4984629add8d44ff60e70bea75a8303b3cea9050f50a9c41ff6ab03447"
   }
  }
 },
 "nbformat": 4,
 "nbformat_minor": 2
}
