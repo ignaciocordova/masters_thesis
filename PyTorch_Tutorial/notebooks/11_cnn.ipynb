{
 "cells": [
  {
   "cell_type": "code",
   "execution_count": 51,
   "metadata": {},
   "outputs": [],
   "source": [
    "import torch \n",
    "import torch.nn as nn "
   ]
  },
  {
   "cell_type": "code",
   "execution_count": 3,
   "metadata": {},
   "outputs": [
    {
     "name": "stdout",
     "output_type": "stream",
     "text": [
      "Downloading https://www.cs.toronto.edu/~kriz/cifar-10-python.tar.gz to ./data/cifar-10-python.tar.gz\n"
     ]
    },
    {
     "data": {
      "application/vnd.jupyter.widget-view+json": {
       "model_id": "8096b7d994584f8da67f7b2f13958d27",
       "version_major": 2,
       "version_minor": 0
      },
      "text/plain": [
       "  0%|          | 0/170498071 [00:00<?, ?it/s]"
      ]
     },
     "metadata": {},
     "output_type": "display_data"
    },
    {
     "name": "stdout",
     "output_type": "stream",
     "text": [
      "Extracting ./data/cifar-10-python.tar.gz to ./data\n",
      "Files already downloaded and verified\n"
     ]
    }
   ],
   "source": [
    "from torchvision import datasets, transforms\n",
    "from torch.utils.data import DataLoader\n",
    "\n",
    "# transforms of the data\n",
    "transform = transforms.Compose([\n",
    "    \n",
    "                                transforms.ToTensor(),\n",
    "                                transforms.Normalize((0.5, 0.5, 0.5),\n",
    "                                                     (0.5, 0.5, 0.5))\n",
    "                                                     \n",
    "                                ])\n",
    "\n",
    "train_dataset = datasets.CIFAR10(root='./data', train=True, \n",
    "                                 download=True, transform=transform)\n",
    "\n",
    "test_dataset = datasets.CIFAR10(root='./data', train=False, \n",
    "                                 download=True, transform=transform)                                                                                                "
   ]
  },
  {
   "cell_type": "code",
   "execution_count": 81,
   "metadata": {},
   "outputs": [],
   "source": [
    "# device configuration\n",
    "device = torch.device('cuda' if torch.cuda.is_available() else 'cpu')\n",
    "\n",
    "# Hyper-parameters of the problem\n",
    "num_epochs = 8\n",
    "batch_size = 4\n",
    "learning_rate = 0.001"
   ]
  },
  {
   "cell_type": "code",
   "execution_count": 82,
   "metadata": {},
   "outputs": [],
   "source": [
    "train_loader = DataLoader(train_dataset, batch_size=batch_size, shuffle=True)\n",
    "\n",
    "test_loader = DataLoader(test_dataset, batch_size=batch_size, shuffle=False)"
   ]
  },
  {
   "cell_type": "code",
   "execution_count": 83,
   "metadata": {},
   "outputs": [],
   "source": [
    "classes = ('plane', 'car', 'bird', 'cat', 'deer', 'dog', 'frog', 'horse', 'ship', 'truck')"
   ]
  },
  {
   "attachments": {},
   "cell_type": "markdown",
   "metadata": {},
   "source": [
    "### Visualize training data"
   ]
  },
  {
   "cell_type": "code",
   "execution_count": 84,
   "metadata": {},
   "outputs": [],
   "source": [
    "import torchvision\n",
    "import matplotlib.pyplot as plt\n",
    "\n",
    "# acces first iteration of train_loader\n",
    "dataiter = iter(train_loader)\n",
    "images, labels = next(dataiter)"
   ]
  },
  {
   "cell_type": "code",
   "execution_count": 85,
   "metadata": {},
   "outputs": [
    {
     "data": {
      "text/plain": [
       "(36, 138, 3)"
      ]
     },
     "execution_count": 85,
     "metadata": {},
     "output_type": "execute_result"
    }
   ],
   "source": [
    "torchvision.utils.make_grid(images).numpy().transpose(1, 2, 0).shape"
   ]
  },
  {
   "cell_type": "code",
   "execution_count": 86,
   "metadata": {},
   "outputs": [
    {
     "name": "stderr",
     "output_type": "stream",
     "text": [
      "Clipping input data to the valid range for imshow with RGB data ([0..1] for floats or [0..255] for integers).\n"
     ]
    },
    {
     "name": "stdout",
     "output_type": "stream",
     "text": [
      "tensor([1, 7, 7, 4]) ('plane', 'car', 'bird', 'cat', 'deer', 'dog', 'frog', 'horse', 'ship', 'truck')\n"
     ]
    },
    {
     "data": {
      "image/png": "[encoded data removed]",
      "text/plain": [
       "<Figure size 640x480 with 1 Axes>"
      ]
     },
     "metadata": {},
     "output_type": "display_data"
    }
   ],
   "source": [
    "plt.imshow(torchvision.utils.make_grid(images).numpy().transpose(1, 2, 0))\n",
    "print(labels, classes)"
   ]
  },
  {
   "attachments": {},
   "cell_type": "markdown",
   "metadata": {},
   "source": [
    "### Implementation of CNN"
   ]
  },
  {
   "cell_type": "code",
   "execution_count": 87,
   "metadata": {},
   "outputs": [],
   "source": [
    "import torch.nn.functional as F"
   ]
  },
  {
   "cell_type": "code",
   "execution_count": 88,
   "metadata": {},
   "outputs": [],
   "source": [
    "class MiCNN(nn.Module):\n",
    "    def __init__(self,):\n",
    "        super(MiCNN, self).__init__()\n",
    "        self.conv1 = nn.Conv2d(3, 6, 5)\n",
    "        self.pool = nn.MaxPool2d(2, 2)\n",
    "        self.conv2 = nn.Conv2d(6, 16, 5)\n",
    "        self.fc1 = nn.Linear(16 * 5 * 5, 300)\n",
    "        self.fc2 = nn.Linear(300, 100)\n",
    "        self.fc3 = nn.Linear(100, 10)\n",
    "\n",
    "    def forward(self, x):\n",
    "        x = self.pool(F.relu(self.conv1(x)))\n",
    "        x = self.pool(F.relu(self.conv2(x)))\n",
    "\n",
    "        # flattening of image 16 channels 5x5 image\n",
    "        x = x.view(-1, 16 * 5 * 5)\n",
    "\n",
    "        x = F.relu(self.fc1(x))\n",
    "        x = F.relu(self.fc2(x))\n",
    "        x = self.fc3(x)\n",
    "\n",
    "        return x "
   ]
  },
  {
   "cell_type": "code",
   "execution_count": 89,
   "metadata": {},
   "outputs": [],
   "source": [
    "model = MiCNN().to(device)\n",
    "\n",
    "criterion = nn.CrossEntropyLoss()\n",
    "optimizer = torch.optim.SGD(model.parameters(), lr=learning_rate)\n",
    "\n",
    "n_total_steps = len(train_loader)"
   ]
  },
  {
   "cell_type": "code",
   "execution_count": 90,
   "metadata": {},
   "outputs": [
    {
     "name": "stdout",
     "output_type": "stream",
     "text": [
      "Epoch 0/8; Step 2000/12500; Loss 2.316\n",
      "Epoch 0/8; Step 4000/12500; Loss 2.261\n",
      "Epoch 0/8; Step 6000/12500; Loss 2.248\n",
      "Epoch 0/8; Step 8000/12500; Loss 2.221\n",
      "Epoch 0/8; Step 10000/12500; Loss 2.049\n",
      "Epoch 0/8; Step 12000/12500; Loss 2.129\n",
      "Epoch 1/8; Step 2000/12500; Loss 2.550\n",
      "Epoch 1/8; Step 4000/12500; Loss 1.616\n",
      "Epoch 1/8; Step 6000/12500; Loss 2.529\n",
      "Epoch 1/8; Step 8000/12500; Loss 2.375\n",
      "Epoch 1/8; Step 10000/12500; Loss 1.679\n",
      "Epoch 1/8; Step 12000/12500; Loss 1.733\n",
      "Epoch 2/8; Step 2000/12500; Loss 0.970\n",
      "Epoch 2/8; Step 4000/12500; Loss 1.681\n",
      "Epoch 2/8; Step 6000/12500; Loss 1.701\n",
      "Epoch 2/8; Step 8000/12500; Loss 1.417\n",
      "Epoch 2/8; Step 10000/12500; Loss 1.983\n",
      "Epoch 2/8; Step 12000/12500; Loss 1.573\n",
      "Epoch 3/8; Step 2000/12500; Loss 1.906\n",
      "Epoch 3/8; Step 4000/12500; Loss 2.421\n",
      "Epoch 3/8; Step 6000/12500; Loss 1.894\n",
      "Epoch 3/8; Step 8000/12500; Loss 1.656\n",
      "Epoch 3/8; Step 10000/12500; Loss 1.933\n",
      "Epoch 3/8; Step 12000/12500; Loss 2.023\n",
      "Epoch 4/8; Step 2000/12500; Loss 1.594\n",
      "Epoch 4/8; Step 4000/12500; Loss 1.062\n",
      "Epoch 4/8; Step 6000/12500; Loss 0.718\n",
      "Epoch 4/8; Step 8000/12500; Loss 0.710\n",
      "Epoch 4/8; Step 10000/12500; Loss 1.574\n",
      "Epoch 4/8; Step 12000/12500; Loss 1.523\n",
      "Epoch 5/8; Step 2000/12500; Loss 1.819\n",
      "Epoch 5/8; Step 4000/12500; Loss 1.069\n",
      "Epoch 5/8; Step 6000/12500; Loss 1.548\n",
      "Epoch 5/8; Step 8000/12500; Loss 1.131\n",
      "Epoch 5/8; Step 10000/12500; Loss 1.450\n",
      "Epoch 5/8; Step 12000/12500; Loss 2.139\n",
      "Epoch 6/8; Step 2000/12500; Loss 2.166\n",
      "Epoch 6/8; Step 4000/12500; Loss 1.493\n",
      "Epoch 6/8; Step 6000/12500; Loss 0.541\n",
      "Epoch 6/8; Step 8000/12500; Loss 2.202\n",
      "Epoch 6/8; Step 10000/12500; Loss 2.189\n",
      "Epoch 6/8; Step 12000/12500; Loss 0.824\n",
      "Epoch 7/8; Step 2000/12500; Loss 1.328\n",
      "Epoch 7/8; Step 4000/12500; Loss 1.283\n",
      "Epoch 7/8; Step 6000/12500; Loss 1.683\n",
      "Epoch 7/8; Step 8000/12500; Loss 2.126\n",
      "Epoch 7/8; Step 10000/12500; Loss 0.739\n",
      "Epoch 7/8; Step 12000/12500; Loss 0.951\n"
     ]
    }
   ],
   "source": [
    "for epoch in range(num_epochs):\n",
    "    for idx, (images, labels) in enumerate(train_loader):\n",
    "\n",
    "        images = images.to(device)\n",
    "        labels = labels.to(device)\n",
    "\n",
    "        outputs = model(images)\n",
    "        loss = criterion(outputs, labels)\n",
    "\n",
    "        optimizer.zero_grad()\n",
    "        loss.backward()\n",
    "        optimizer.step()\n",
    "\n",
    "        if (idx+1)%2000 == 0:\n",
    "            print(f'Epoch {epoch+1}/{num_epochs}; Step {idx+1}/{n_total_steps}; Loss {loss.item():.3f}')"
   ]
  },
  {
   "attachments": {},
   "cell_type": "markdown",
   "metadata": {},
   "source": [
    "### Model evaluation "
   ]
  },
  {
   "cell_type": "code",
   "execution_count": 91,
   "metadata": {},
   "outputs": [
    {
     "name": "stdout",
     "output_type": "stream",
     "text": [
      "Accuracy of the network: 55.88 %\n",
      "Accuracy of plane: 62.0 %\n",
      "Accuracy of car: 74.6 %\n",
      "Accuracy of bird: 38.9 %\n",
      "Accuracy of cat: 29.8 %\n",
      "Accuracy of deer: 44.9 %\n",
      "Accuracy of dog: 38.7 %\n",
      "Accuracy of frog: 77.3 %\n",
      "Accuracy of horse: 65.6 %\n",
      "Accuracy of ship: 69.0 %\n",
      "Accuracy of truck: 58.0 %\n"
     ]
    }
   ],
   "source": [
    "with torch.no_grad():\n",
    "    n_correct = 0 \n",
    "    n_samples = 0\n",
    "    n_class_correct = [0 for i in range(10)]\n",
    "    n_class_samples = [0 for i in range(10)]\n",
    "\n",
    "    for images,labels in test_loader:\n",
    "        \n",
    "        images = images.to(device)\n",
    "        labels = labels.to(device)\n",
    "\n",
    "        ouputs_model = model(images)\n",
    "\n",
    "        _, predictions = torch.max(ouputs_model, 1)\n",
    "\n",
    "        n_samples += labels.size(0) # would this be batch_size? # not always!\n",
    "        n_correct +=(predictions==labels).sum().item()\n",
    "\n",
    "        for i in range(batch_size):\n",
    "            if i>=labels.shape[0]:\n",
    "                break\n",
    "            label = labels[i]\n",
    "            pred = predictions[i]\n",
    "            if (label == pred):\n",
    "                n_class_correct[label] += 1\n",
    "            n_class_samples[label] += 1\n",
    "    \n",
    "    acc = 100.0 * n_correct / n_samples\n",
    "    print(f'Accuracy of the network: {acc} %')\n",
    "\n",
    "    for i in range(10):\n",
    "        acc = 100* n_class_correct[i]/n_class_samples[i]\n",
    "        print(f'Accuracy of {classes[i]}: {acc} %')\n",
    "\n",
    "\n",
    "\n",
    "        "
   ]
  },
  {
   "attachments": {},
   "cell_type": "markdown",
   "metadata": {},
   "source": [
    "4 epochs \n",
    "\n",
    "Accuracy of the network: 44.94 %\n",
    "Accuracy of plane: 53.0 %\n",
    "Accuracy of car: 66.7 %\n",
    "Accuracy of bird: 20.6 %\n",
    "Accuracy of cat: 37.0 %\n",
    "Accuracy of deer: 30.6 %\n",
    "Accuracy of dog: 31.4 %\n",
    "Accuracy of frog: 64.6 %\n",
    "Accuracy of horse: 59.5 %\n",
    "Accuracy of ship: 36.2 %\n",
    "Accuracy of truck: 49.8 %\n",
    "\n",
    "8 epochs \n",
    "\n",
    "Accuracy of the network: 55.88 %\n",
    "Accuracy of plane: 62.0 %\n",
    "Accuracy of car: 74.6 %\n",
    "Accuracy of bird: 38.9 %\n",
    "Accuracy of cat: 29.8 %\n",
    "Accuracy of deer: 44.9 %\n",
    "Accuracy of dog: 38.7 %\n",
    "Accuracy of frog: 77.3 %\n",
    "Accuracy of horse: 65.6 %\n",
    "Accuracy of ship: 69.0 %\n",
    "Accuracy of truck: 58.0 %"
   ]
  }
 ],
 "metadata": {
  "kernelspec": {
   "display_name": "base",
   "language": "python",
   "name": "python3"
  },
  "language_info": {
   "codemirror_mode": {
    "name": "ipython",
    "version": 3
   },
   "file_extension": ".py",
   "mimetype": "text/x-python",
   "name": "python",
   "nbconvert_exporter": "python",
   "pygments_lexer": "ipython3",
   "version": "3.9.7"
  },
  "orig_nbformat": 4,
  "vscode": {
   "interpreter": {
    "hash": "8375bd4984629add8d44ff60e70bea75a8303b3cea9050f50a9c41ff6ab03447"
   }
  }
 },
 "nbformat": 4,
 "nbformat_minor": 2
}
