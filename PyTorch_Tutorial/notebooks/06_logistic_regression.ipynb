{
 "cells": [
  {
   "cell_type": "code",
   "execution_count": 1,
   "metadata": {},
   "outputs": [],
   "source": [
    "import torch \n",
    "import torch.nn as nn \n",
    "\n",
    "from sklearn import datasets\n",
    "from sklearn.preprocessing import StandardScaler\n",
    "from sklearn.model_selection import train_test_split \n",
    "\n",
    "import numpy as np \n",
    "import matplotlib.pyplot as plt"
   ]
  },
  {
   "attachments": {},
   "cell_type": "markdown",
   "metadata": {},
   "source": [
    "For bulding a model we always follow 3 key steps: \n",
    "\n",
    "1. Design of the model (input/output sizes, forward pass)\n",
    "2. Construct Loss and Optimizer \n",
    "3. Train loop (forward pass for pred and loss, backward pass, update weights)"
   ]
  },
  {
   "cell_type": "code",
   "execution_count": 2,
   "metadata": {},
   "outputs": [
    {
     "name": "stdout",
     "output_type": "stream",
     "text": [
      "torch.Size([455, 30])\n",
      "torch.Size([455, 1])\n",
      "\n",
      "torch.Size([114, 30])\n",
      "torch.Size([114, 1])\n"
     ]
    }
   ],
   "source": [
    "### 0- Prepare data ###\n",
    "X_numpy, y_numpy = datasets.load_breast_cancer(return_X_y=True)\n",
    "\n",
    "n_samples, n_features = X_numpy.shape\n",
    "\n",
    "# train and test set \n",
    "X_train, X_test, y_train, y_test = train_test_split(X_numpy, y_numpy,\n",
    "                                                    test_size=0.2,\n",
    "                                                    random_state=77)\n",
    "\n",
    "# scaling the data \n",
    "sc = StandardScaler()\n",
    "X_train = sc.fit_transform(X_train)\n",
    "X_test = sc.transform(X_test)\n",
    "\n",
    "X_train = torch.from_numpy(X_train.astype(np.float32))\n",
    "X_test = torch.from_numpy(X_test.astype(np.float32))\n",
    "y_train = torch.from_numpy(y_train.astype(np.float32))\n",
    "y_test = torch.from_numpy(y_test.astype(np.float32))\n",
    "\n",
    "# transform to  column vectors\n",
    "y_train = y_train.view(y_train.shape[0], 1)\n",
    "y_test = y_test.view(y_test.shape[0], 1)\n",
    "\n",
    "# print shapes \n",
    "print(X_train.shape)\n",
    "print(y_train.shape)\n",
    "print('')\n",
    "print(X_test.shape)\n",
    "print(y_test.shape)"
   ]
  },
  {
   "cell_type": "code",
   "execution_count": 3,
   "metadata": {},
   "outputs": [],
   "source": [
    "### 1- Model ###\n",
    "\n",
    "class MiRegresionLogistica(nn.Module):\n",
    "\n",
    "    def __init__(self, n_input_features):\n",
    "        super(MiRegresionLogistica, self).__init__()\n",
    "\n",
    "        # one linear layer \n",
    "        self.linear = nn.Linear(n_input_features, 1)\n",
    "    \n",
    "    def forward(self, x):\n",
    "        \n",
    "        y_pred = torch.sigmoid(self.linear(x))\n",
    "\n",
    "        return y_pred \n"
   ]
  },
  {
   "cell_type": "code",
   "execution_count": 4,
   "metadata": {},
   "outputs": [],
   "source": [
    "model = MiRegresionLogistica(n_features)\n",
    "\n",
    "# Binary Cross Entropy Loss \n",
    "criterion = nn.BCELoss()\n",
    "\n",
    "learning_rate = 0.1\n",
    "\n",
    "optimizer = torch.optim.SGD(model.parameters(),\n",
    "                            lr = learning_rate)"
   ]
  },
  {
   "cell_type": "code",
   "execution_count": 5,
   "metadata": {},
   "outputs": [
    {
     "name": "stdout",
     "output_type": "stream",
     "text": [
      "epoch: 10, loss = 0.2401\n",
      "epoch: 20, loss = 0.1806\n",
      "epoch: 30, loss = 0.1539\n",
      "epoch: 40, loss = 0.1381\n",
      "epoch: 50, loss = 0.1275\n",
      "epoch: 60, loss = 0.1197\n",
      "epoch: 70, loss = 0.1137\n",
      "epoch: 80, loss = 0.1089\n",
      "epoch: 90, loss = 0.1049\n",
      "epoch: 100, loss = 0.1016\n"
     ]
    }
   ],
   "source": [
    "max_epcohs = 100 \n",
    "\n",
    "for epoch in range(max_epcohs):\n",
    "\n",
    "    y_pred = model(X_train)\n",
    "\n",
    "    loss = criterion(y_pred, y_train)\n",
    "\n",
    "    loss.backward()\n",
    "\n",
    "    optimizer.step()\n",
    "\n",
    "    optimizer.zero_grad()\n",
    "\n",
    "    if (epoch+1) % 10 == 0:\n",
    "        print(f'epoch: {epoch+1}, loss = {loss:.4f}')"
   ]
  },
  {
   "cell_type": "code",
   "execution_count": 6,
   "metadata": {},
   "outputs": [
    {
     "name": "stdout",
     "output_type": "stream",
     "text": [
      "accuracy = 0.9737\n"
     ]
    }
   ],
   "source": [
    "with torch.no_grad():\n",
    "    y_pred = model(X_test)\n",
    "    y_pred_cls = y_pred.round()\n",
    "    acc = y_pred_cls.eq(y_test).sum() / float(y_test.shape[0])\n",
    "    print(f'accuracy = {acc:.4f}')"
   ]
  },
  {
   "cell_type": "code",
   "execution_count": null,
   "metadata": {},
   "outputs": [],
   "source": []
  }
 ],
 "metadata": {
  "kernelspec": {
   "display_name": "base",
   "language": "python",
   "name": "python3"
  },
  "language_info": {
   "codemirror_mode": {
    "name": "ipython",
    "version": 3
   },
   "file_extension": ".py",
   "mimetype": "text/x-python",
   "name": "python",
   "nbconvert_exporter": "python",
   "pygments_lexer": "ipython3",
   "version": "3.9.7"
  },
  "orig_nbformat": 4,
  "vscode": {
   "interpreter": {
    "hash": "8375bd4984629add8d44ff60e70bea75a8303b3cea9050f50a9c41ff6ab03447"
   }
  }
 },
 "nbformat": 4,
 "nbformat_minor": 2
}
